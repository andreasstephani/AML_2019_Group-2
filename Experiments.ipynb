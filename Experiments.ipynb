#Coursework Part 1 - Gradient Descent in two dimensions
##Contents


* Why is gradient descent important in machine learning?
   
* Three flavours of gradient descent:

> 1.   Plain vanilla
> 2.   Momentum
> 3.   Nesterov's Accelarated Gradient (NAG)

* Minimisation of the six-hump camel function using:

> 1.   Plain vanilla
> 2.   Momentum
> 3.   Nesterov's Accelarated Gradient (NAG)

